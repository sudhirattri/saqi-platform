{
 "cells": [
  {
   "cell_type": "code",
   "execution_count": 1,
   "id": "0c423300",
   "metadata": {},
   "outputs": [],
   "source": [
    "import pandas as pd"
   ]
  },
  {
   "cell_type": "code",
   "execution_count": 2,
   "id": "918b0c95",
   "metadata": {},
   "outputs": [],
   "source": [
    "okhla_c1 = pd.read_csv('okhla_marked_c1.csv')\n",
    "okhla_c2 = pd.read_csv('okhla_marked_c2.csv')\n",
    "okhla_c3 = pd.read_csv('okhla_marked_c3.csv')\n",
    "okhla_c4 = pd.read_csv('okhla_marked_c4.csv')"
   ]
  },
  {
   "cell_type": "code",
   "execution_count": 3,
   "id": "bb0cfb10",
   "metadata": {},
   "outputs": [
    {
     "name": "stdout",
     "output_type": "stream",
     "text": [
      "['From Date', 'To Date', 'PM2.5', 'PM10', 'NO', 'NO2', 'NOx']\n",
      "['From Date', 'To Date', 'NH3', 'SO2', 'CO', 'Ozone', 'Benzene']\n",
      "['From Date', 'To Date', 'Toluene', 'Temp', 'RH', 'WS', 'WD']\n",
      "['From Date', 'To Date', 'SR', 'BP', 'AT', 'RF', 'TOT-RF']\n"
     ]
    }
   ],
   "source": [
    "print(list(okhla_c1.columns))\n",
    "print(list(okhla_c2.columns))\n",
    "print(list(okhla_c3.columns))\n",
    "print(list(okhla_c4.columns))"
   ]
  },
  {
   "cell_type": "code",
   "execution_count": 4,
   "id": "39a24e8a",
   "metadata": {},
   "outputs": [],
   "source": [
    "columns= list(okhla_c1.columns)+list(okhla_c2.columns)+list(okhla_c3.columns)+list(okhla_c4.columns)\n",
    "columns.remove(\"To Date\")\n",
    "columns.remove(\"From Date\")"
   ]
  },
  {
   "cell_type": "code",
   "execution_count": 12,
   "id": "3b8d4f34",
   "metadata": {},
   "outputs": [],
   "source": [
    "def clean(df):\n",
    "    cols = list(df.columns)\n",
    "    cols.remove(\"To Date\")\n",
    "    cols.remove(\"From Date\")\n",
    "    print(len(df),cols)\n",
    "    for c in cols:\n",
    "        df[c] = pd.to_numeric(df[c], errors='coerce')\n",
    "    df = df.dropna()\n",
    "    print(len(df))\n",
    "    return df\n",
    "\n",
    "# df = clean(oklha_m3)\n",
    "# df.to_csv(\"okhla_static.csv\")"
   ]
  },
  {
   "cell_type": "code",
   "execution_count": 33,
   "id": "33b7c143",
   "metadata": {},
   "outputs": [
    {
     "name": "stdout",
     "output_type": "stream",
     "text": [
      "8659 ['PM2.5', 'PM10', 'NO', 'NO2', 'NOx', 'NH3', 'SO2', 'CO', 'Ozone', 'Benzene', 'Toluene', 'RH', 'WS', 'WD', 'SR', 'BP', 'AT', 'RF', 'TOT-RF', 'timestamp']\n",
      "7094\n"
     ]
    }
   ],
   "source": [
    "okhla_c1\n",
    "oklha_m1 = pd.merge(okhla_c1, okhla_c2,  how='outer', on=['From Date','To Date'])\n",
    "oklha_m2 = pd.merge(oklha_m1, okhla_c3,  how='outer', on=['From Date','To Date'])\n",
    "oklha_m2 = oklha_m2.drop('Temp', axis=1)\n",
    "\n",
    "oklha_m3 = pd.merge(oklha_m2, okhla_c4,  how='outer', on=['From Date','To Date'])\n",
    "oklha_m3['To Date'] =  pd.to_datetime(oklha_m3['To Date'], format='%d-%m-%Y %H:%M')\n",
    "oklha_m3['From Date'] =  pd.to_datetime(oklha_m3['From Date'], format='%d-%m-%Y %H:%M')\n",
    "\n",
    "oklha_m3['timestamp'] = oklha_m3['To Date'].dt.strftime('%s')\n",
    "\n",
    "oklha_m3['To Date'] = oklha_m3['To Date'].dt.strftime('%Y-%m-%dT%H:%M:%S+05:30')\n",
    "oklha_m3['From Date'] = oklha_m3['From Date'].dt.strftime('%Y-%m-%dT%H:%M:%S+05:30')\n",
    "\n",
    "oklha_m3 = clean(oklha_m3)\n",
    "oklha_m3.to_csv(\"okhla_static.csv\")"
   ]
  },
  {
   "cell_type": "code",
   "execution_count": 25,
   "id": "09276ff9",
   "metadata": {},
   "outputs": [],
   "source": [
    "import pandas as pd"
   ]
  },
  {
   "cell_type": "code",
   "execution_count": 26,
   "id": "2b4026d9",
   "metadata": {},
   "outputs": [],
   "source": [
    "najafgarh_c1 = pd.read_csv('najafgarh_marked_c1.csv')\n",
    "najafgarh_c2 = pd.read_csv('najafgarh_marked_c2.csv')\n",
    "najafgarh_c3 = pd.read_csv('najafgarh_marked_c3.csv')\n",
    "najafgarh_c4 = pd.read_csv('najafgarh_marked_c4.csv')"
   ]
  },
  {
   "cell_type": "code",
   "execution_count": 27,
   "id": "f51b7872",
   "metadata": {},
   "outputs": [
    {
     "name": "stdout",
     "output_type": "stream",
     "text": [
      "['From Date', 'To Date', 'PM2.5', 'PM10', 'NO', 'NO2', 'NOx']\n",
      "['From Date', 'To Date', 'NH3', 'SO2', 'CO', 'Ozone', 'Benzene']\n",
      "['From Date', 'To Date', 'Toluene', 'Temp', 'RH', 'WS', 'WD']\n",
      "['From Date', 'To Date', 'SR', 'BP', 'VWS', 'AT', 'RF']\n"
     ]
    }
   ],
   "source": [
    "print(list(najafgarh_c1.columns))\n",
    "print(list(najafgarh_c2.columns))\n",
    "print(list(najafgarh_c3.columns))\n",
    "print(list(najafgarh_c4.columns))\n",
    "columns= list(najafgarh_c1.columns)+list(najafgarh_c2.columns)+list(najafgarh_c3.columns)+list(najafgarh_c4.columns)\n",
    "columns.remove(\"To Date\")\n",
    "columns.remove(\"From Date\")"
   ]
  },
  {
   "cell_type": "code",
   "execution_count": 35,
   "id": "55fa21a5",
   "metadata": {},
   "outputs": [
    {
     "name": "stdout",
     "output_type": "stream",
     "text": [
      "17283 ['PM2.5', 'PM10', 'NO', 'NO2', 'NOx', 'NH3', 'SO2', 'CO', 'Ozone', 'Benzene', 'Toluene', 'RH', 'WS', 'WD', 'SR', 'BP', 'AT', 'RF', 'timestamp']\n",
      "11180\n"
     ]
    }
   ],
   "source": [
    "najafgarh_m1 = pd.merge(najafgarh_c1, najafgarh_c2,  how='outer', on=['From Date','To Date'])\n",
    "najafgarh_m2 = pd.merge(najafgarh_m1, najafgarh_c3,  how='outer', on=['From Date','To Date'])\n",
    "najafgarh_m2 = najafgarh_m2.drop('Temp', axis=1)\n",
    "najafgarh_m3 = pd.merge(najafgarh_m2, najafgarh_c4,  how='outer', on=['From Date','To Date'])\n",
    "najafgarh_m3 = najafgarh_m3.drop('VWS', axis=1)\n",
    "najafgarh_m3['To Date'] =  pd.to_datetime(najafgarh_m3['To Date'], format='%d-%m-%Y %H:%M')\n",
    "najafgarh_m3['From Date'] =  pd.to_datetime(najafgarh_m3['From Date'], format='%d-%m-%Y %H:%M')\n",
    "\n",
    "najafgarh_m3['timestamp'] = najafgarh_m3['To Date'].dt.strftime('%s')\n",
    "\n",
    "najafgarh_m3['To Date'] = najafgarh_m3['To Date'].dt.strftime('%Y-%m-%dT%H:%M:%S+05:30')\n",
    "najafgarh_m3['From Date'] = najafgarh_m3['From Date'].dt.strftime('%Y-%m-%dT%H:%M:%S+05:30')\n",
    "df = clean(najafgarh_m3)\n",
    "\n",
    "df.to_csv(\"najafgarh_static.csv\",index=False)\n"
   ]
  }
 ],
 "metadata": {
  "kernelspec": {
   "display_name": "Python 3 (ipykernel)",
   "language": "python",
   "name": "python3"
  },
  "language_info": {
   "codemirror_mode": {
    "name": "ipython",
    "version": 3
   },
   "file_extension": ".py",
   "mimetype": "text/x-python",
   "name": "python",
   "nbconvert_exporter": "python",
   "pygments_lexer": "ipython3",
   "version": "3.9.12"
  }
 },
 "nbformat": 4,
 "nbformat_minor": 5
}
